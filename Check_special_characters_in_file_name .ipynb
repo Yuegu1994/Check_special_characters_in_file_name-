{
 "cells": [
  {
   "cell_type": "markdown",
   "id": "e04ee5ce",
   "metadata": {},
   "source": [
    "# Check whether the file name has special characters "
   ]
  },
  {
   "cell_type": "code",
   "execution_count": 1,
   "id": "66fe6469",
   "metadata": {},
   "outputs": [],
   "source": [
    "import os\n",
    "import re\n",
    "import glob\n",
    "from os import walk"
   ]
  },
  {
   "cell_type": "code",
   "execution_count": 2,
   "id": "8a361ae4",
   "metadata": {},
   "outputs": [],
   "source": [
    "#folders =  glob.glob('C:/Users/ygu34/Downloads/LCS_CAV_LCAC_METADATA_QGIS/GPSR CLUSTERING'+'/*')\n",
    "#print(folders)"
   ]
  },
  {
   "cell_type": "markdown",
   "id": "b896fcdf",
   "metadata": {},
   "source": [
    "## Step 1: Print out file names with special characters in a single folder\n",
    "\n",
    "Return a list of files whose file name has special characters \n",
    "\n",
    "For EOL while scanning string literal see [link](https://stackoverflow.com/questions/3561691/python-syntaxerror-eol-while-scanning-string-literal)"
   ]
  },
  {
   "cell_type": "code",
   "execution_count": 3,
   "id": "c4d46510",
   "metadata": {},
   "outputs": [],
   "source": [
    "# folder path\n",
    "dir_path = r'C:/Users/ygu34/Downloads/LCS_CAV_LCAC_METADATA_QGIS/GPSR CLUSTERING/Alfonso/'\n",
    "\n",
    "# list file and directories\n",
    "res = os.listdir(dir_path)\n",
    "#print(res,type(res))"
   ]
  },
  {
   "cell_type": "code",
   "execution_count": 4,
   "id": "b56b8d4b",
   "metadata": {
    "scrolled": true
   },
   "outputs": [
    {
     "name": "stdout",
     "output_type": "stream",
     "text": [
      "Cavite - Full.cpg\n",
      "Cavite - Full.dbf\n",
      "Cavite - Full.prj\n",
      "Cavite - Full.qpj\n",
      "Cavite - Full.shp\n",
      "Cavite - Full.shx\n"
     ]
    },
    {
     "name": "stderr",
     "output_type": "stream",
     "text": [
      "C:\\Users\\ygu34\\AppData\\Local\\Temp\\ipykernel_21936\\1977495624.py:4: FutureWarning: Possible set union at position 40\n",
      "  if bool(re.findall(special_characters,i))==True :\n",
      "C:\\Users\\ygu34\\AppData\\Local\\Temp\\ipykernel_21936\\1977495624.py:4: FutureWarning: Possible set union at position 41\n",
      "  if bool(re.findall(special_characters,i))==True :\n"
     ]
    }
   ],
   "source": [
    "special_characters = \"\"\"[#|%|&|{|}|\\|<|>|*|?|/| |$|!|'|\"|:|@|+|`|||=]\"\"\" \n",
    "for i in res:\n",
    "    # if re.find() does not return a empty list, print the file name\n",
    "    if bool(re.findall(special_characters,i))==True : \n",
    "        print(i)"
   ]
  },
  {
   "cell_type": "markdown",
   "id": "b2570fe6",
   "metadata": {},
   "source": [
    "## Step 2: Find all files in a directory"
   ]
  },
  {
   "cell_type": "code",
   "execution_count": null,
   "id": "ac26ac97",
   "metadata": {},
   "outputs": [],
   "source": [
    "from os import walk\n",
    "\n",
    "mypath = 'C:/Users/ygu34/Downloads/LCS_CAV_LCAC_METADATA_QGIS'\n",
    "\n",
    "\n",
    "f = [os.path.join(dirpath,f) for (dirpath, dirnames, filenames) in os.walk(mypath) for f in filenames] \n",
    "\n",
    "print (f)"
   ]
  },
  {
   "cell_type": "markdown",
   "id": "493709ca",
   "metadata": {},
   "source": [
    "## Combine Step 1 and Step 2"
   ]
  },
  {
   "cell_type": "code",
   "execution_count": null,
   "id": "4d9d78b7",
   "metadata": {},
   "outputs": [],
   "source": [
    "# define the directory\n",
    "mypath = 'C:/Users/ygu34/Downloads/LCS_CAV_LCAC_METADATA_QGIS'\n",
    "\n",
    "# define special characters \n",
    "special_characters = \"\"\"[#|%|&|{|}|\\|<|>|*|?|/| |$|!|'|\"|:|@|+|`|||=]\"\"\" \n",
    "\n",
    "# create a list for all files names(with path) in a directory\n",
    "f = [os.path.join(dirpath,f) for (dirpath, dirnames, filenames) in os.walk(mypath) for f in filenames] \n",
    "\n",
    "# extract the file name, if the file name contains special characters, print it out \n",
    "for file in f:\n",
    "    x = file.rfind('\\\\')\n",
    "    file_name = file[x+1:] \n",
    "    if bool(re.findall(special_characters,file_name))==True: \n",
    "        print(file)\n",
    "    "
   ]
  },
  {
   "cell_type": "markdown",
   "id": "776a4c43",
   "metadata": {},
   "source": [
    "## Final Script\n",
    "\n",
    "Steps:\n",
    "- Download all the files from a datashare submission\n",
    "- Create a folder and move all the files from the submission to the folder. e.g. 'LCS_CAV_LCAC_METADATA_QGIS'\n",
    "- If there are zip files, unzip it\n",
    "- Run the following code\n",
    "- Enter your file path. For example: 'C:/Users/ygu34/Downloads/LCS_CAV_LCAC_METADATA_QGIS'"
   ]
  },
  {
   "cell_type": "code",
   "execution_count": 2,
   "id": "bf56d5aa",
   "metadata": {},
   "outputs": [],
   "source": [
    "# import libraries \n",
    "import os\n",
    "import re\n",
    "import glob\n",
    "from os import walk"
   ]
  },
  {
   "cell_type": "code",
   "execution_count": null,
   "id": "f120c362",
   "metadata": {},
   "outputs": [],
   "source": [
    "# define the directory\n",
    "mypath  = str(input(\"Please Enter the File Path: \"))\n",
    "# One Example File Path: 'C:/Users/ygu34/Downloads/LCS_CAV_LCAC_METADATA_QGIS'\n",
    "\n",
    "# define special characters \n",
    "special_characters = \"\"\"[#|%|&|{|}|\\|<|>|*|?|/| |$|!|'|\"|:|@|+|`|||=]\"\"\" \n",
    "\n",
    "# create a list for all files names(with path) in a directory\n",
    "f = [os.path.join(dirpath,f) for (dirpath, dirnames, filenames) in os.walk(mypath) for f in filenames] \n",
    "\n",
    "invalid_fn=[]\n",
    "\n",
    "# extract the file name, if the file name contains special characters, print it out \n",
    "for file in f:\n",
    "    # locate the position of the file name\n",
    "    x = file.rfind('\\\\')\n",
    "    file_name = file[x+1:] \n",
    "    if bool(re.findall(special_characters,file_name))==True: \n",
    "        invalid_fn.append(file)\n",
    "\n",
    "if invalid_fn:\n",
    "    print('There are' , len(invalid_fn), 'invalid file names.')\n",
    "    for f in invalid_fn:\n",
    "        print(f)\n",
    "if not(invalid_fn):\n",
    "    print('No invalid file names detected.')\n",
    "    "
   ]
  },
  {
   "cell_type": "code",
   "execution_count": null,
   "id": "8b8f52bb",
   "metadata": {},
   "outputs": [],
   "source": []
  }
 ],
 "metadata": {
  "kernelspec": {
   "display_name": "Python 3 (ipykernel)",
   "language": "python",
   "name": "python3"
  },
  "language_info": {
   "codemirror_mode": {
    "name": "ipython",
    "version": 3
   },
   "file_extension": ".py",
   "mimetype": "text/x-python",
   "name": "python",
   "nbconvert_exporter": "python",
   "pygments_lexer": "ipython3",
   "version": "3.9.12"
  }
 },
 "nbformat": 4,
 "nbformat_minor": 5
}
